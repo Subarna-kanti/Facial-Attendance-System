{
 "cells": [
  {
   "cell_type": "code",
   "execution_count": 41,
   "metadata": {
    "colab": {
     "base_uri": "https://localhost:8080/",
     "height": 34
    },
    "colab_type": "code",
    "id": "roM8LR5Z-gCU",
    "outputId": "33711672-2543-40bf-c344-c0d642e6c5eb"
   },
   "outputs": [
    {
     "name": "stdout",
     "output_type": "stream",
     "text": [
      "Drive already mounted at /content/drive; to attempt to forcibly remount, call drive.mount(\"/content/drive\", force_remount=True).\n"
     ]
    }
   ],
   "source": [
    "from google.colab import drive\n",
    "drive.mount('/content/drive')"
   ]
  },
  {
   "cell_type": "code",
   "execution_count": 0,
   "metadata": {
    "colab": {},
    "colab_type": "code",
    "id": "xCki3Hct-ehP"
   },
   "outputs": [],
   "source": [
    "import cv2\n",
    "import numpy as np\n",
    "from matplotlib import pyplot as plt\n",
    "import glob\n",
    "import os\n",
    "from sklearn import preprocessing \n",
    "from sklearn.model_selection import train_test_split"
   ]
  },
  {
   "cell_type": "code",
   "execution_count": 0,
   "metadata": {
    "colab": {},
    "colab_type": "code",
    "id": "T1PXgJRE-k84"
   },
   "outputs": [],
   "source": [
    "cascades_path = 'drive/My Drive/'\n",
    "face_cascade = cv2.CascadeClassifier(cascades_path + 'haarcascade_frontalface_default.xml')\n",
    "eye_cascade = cv2.CascadeClassifier(cascades_path + 'haarcascade_eye_tree_eyeglasses.xml')\n",
    "nose_cascade = cv2.CascadeClassifier(cascades_path + 'haarcascade_mcs_nose.xml')"
   ]
  },
  {
   "cell_type": "code",
   "execution_count": 0,
   "metadata": {
    "colab": {},
    "colab_type": "code",
    "id": "tfMUH283-ehb"
   },
   "outputs": [],
   "source": [
    "def face_detect(img):\n",
    "  gray = cv2.cvtColor(img,cv2.COLOR_RGB2GRAY)\n",
    "  faces = face_cascade.detectMultiScale(gray, 1.3, 5)\n",
    "  if (len(faces) == 0 ):\n",
    "    return None, None\n",
    "  else:\n",
    "    for (x , y, w, h) in faces:\n",
    "      roi_gray = gray[y:y+h, x:x+w]\n",
    "      roi_color = img[y:y+h, x:x+w]\n",
    "      mask = np.zeros_like(roi_color)\n",
    "      img_mask = np.zeros_like(img)\n",
    "      rows, cols,_ = mask.shape\n",
    "      img_mask = cv2.ellipse(img_mask,(int(rows/2)+x, int(cols/2)+y), (int((2*x+w)/2),int((2*y+h)/2)), angle=0, startAngle=0, endAngle=360, color=(255,255,255), thickness=-1)    \n",
    "      img = np.bitwise_and(img_mask, img)\n",
    "      img = img[y:y+h, x:x+w]\n",
    "      img_gray = cv2.cvtColor(image,cv2.COLOR_RGB2GRAY)\n",
    "  return img,img_gray"
   ]
  },
  {
   "cell_type": "code",
   "execution_count": 0,
   "metadata": {
    "colab": {},
    "colab_type": "code",
    "id": "Y1Uvooy2-ehk"
   },
   "outputs": [],
   "source": [
    "images = []\n",
    "label = []\n",
    "filenames = os.listdir(\"/content/drive/My Drive/AVR_data\")\n",
    "for filename in filenames:\n",
    "  sub_filenames = os.listdir(\"/content/drive/My Drive/AVR_data/\"+filename)\n",
    "  for sub_file in sub_filenames:\n",
    "    image = cv2.imread(\"/content/drive/My Drive/AVR_data/\"+filename + \"/\" +sub_file)\n",
    "    image = cv2.cvtColor(image,cv2.COLOR_BGR2RGB)\n",
    "    image, image_gray = face_detect(image)\n",
    "    if image is not None:\n",
    "      image_g = cv2.resize(image_gray , (64, 64))\n",
    "      images.append(image_g)\n",
    "      label.append(filename)"
   ]
  },
  {
   "cell_type": "code",
   "execution_count": 0,
   "metadata": {
    "colab": {},
    "colab_type": "code",
    "id": "TVsXv7DV-ehr"
   },
   "outputs": [],
   "source": [
    "labels = np.array(label)\n",
    "label_encoder = preprocessing.LabelEncoder()\n",
    "enc_labels = label_encoder.fit_transform(labels) \n",
    "labels_unique = label_encoder.classes_\n",
    "labels_unique = np.array(labels_unique)\n",
    "enc_labels = np.array(enc_labels)\n",
    "images = np.array(images)"
   ]
  },
  {
   "cell_type": "code",
   "execution_count": 47,
   "metadata": {
    "colab": {
     "base_uri": "https://localhost:8080/",
     "height": 355
    },
    "colab_type": "code",
    "id": "itHSmOE_-ehx",
    "outputId": "da1f23c9-64c4-45ad-a53f-63cb3c01c227"
   },
   "outputs": [
    {
     "name": "stdout",
     "output_type": "stream",
     "text": [
      "624\n",
      "624\n",
      "624\n",
      "Akhila\n"
     ]
    },
    {
     "data": {
      "image/png": "[encoded data removed]",
      "text/plain": [
       "<Figure size 432x288 with 1 Axes>"
      ]
     },
     "metadata": {
      "tags": []
     },
     "output_type": "display_data"
    },
    {
     "name": "stdout",
     "output_type": "stream",
     "text": [
      "(624, 64, 64)\n"
     ]
    }
   ],
   "source": [
    "print(len(images))\n",
    "print(len(labels))\n",
    "print(len(enc_labels))\n",
    "print(labels[50])\n",
    "plt.imshow(images[50], cmap = 'gray')\n",
    "plt.show()\n",
    "print(images.shape)"
   ]
  },
  {
   "cell_type": "code",
   "execution_count": 0,
   "metadata": {
    "colab": {},
    "colab_type": "code",
    "id": "sSE0rmEbEvz5"
   },
   "outputs": [],
   "source": [
    "face_recLBP = cv2.face.LBPHFaceRecognizer_create()"
   ]
  },
  {
   "cell_type": "code",
   "execution_count": 0,
   "metadata": {
    "colab": {},
    "colab_type": "code",
    "id": "PkGsdAQ1Evwc"
   },
   "outputs": [],
   "source": [
    "(X_train, X_test, y_train, y_test) = train_test_split(images, enc_labels, test_size=0.25, random_state=42)"
   ]
  },
  {
   "cell_type": "code",
   "execution_count": 0,
   "metadata": {
    "colab": {},
    "colab_type": "code",
    "id": "I6zGBZDdEvug"
   },
   "outputs": [],
   "source": [
    "face_recLBP.train(X_train, y_train)"
   ]
  },
  {
   "cell_type": "code",
   "execution_count": 0,
   "metadata": {
    "colab": {},
    "colab_type": "code",
    "id": "RttQm-R7FGU_"
   },
   "outputs": [],
   "source": [
    "def predic(X_test):\n",
    "  predictions = []\n",
    "  for img in X_test:\n",
    "    predictions.append(face_recLBP.predict(img))\n",
    "  return predictions"
   ]
  },
  {
   "cell_type": "code",
   "execution_count": 0,
   "metadata": {
    "colab": {},
    "colab_type": "code",
    "id": "Jrp5rj26QiZj"
   },
   "outputs": [],
   "source": [
    "def accuracy(predictions, y_test):\n",
    "  count = 0 \n",
    "  for i in range(len(y_test)):\n",
    "    if (predictions[i][0] == y_test[i]):\n",
    "      count = count +1\n",
    "  print(\"LBP accuracy\" , 100*(count/(len(y_test)-1)))"
   ]
  },
  {
   "cell_type": "code",
   "execution_count": 0,
   "metadata": {
    "colab": {},
    "colab_type": "code",
    "id": "uJBzc3ZaEvpx"
   },
   "outputs": [],
   "source": [
    "predictions = predic(X_test)"
   ]
  },
  {
   "cell_type": "code",
   "execution_count": 54,
   "metadata": {
    "colab": {
     "base_uri": "https://localhost:8080/",
     "height": 34
    },
    "colab_type": "code",
    "id": "OQ9cs0CuEvny",
    "outputId": "fae4610b-a970-485a-e65d-9b28c5999f24"
   },
   "outputs": [
    {
     "name": "stdout",
     "output_type": "stream",
     "text": [
      "LBP accuracy 86.45161290322581\n"
     ]
    }
   ],
   "source": [
    "accuracy(predictions, y_test)"
   ]
  }
 ],
 "metadata": {
  "accelerator": "GPU",
  "colab": {
   "name": "LBP_classifier.ipynb",
   "provenance": []
  },
  "kernelspec": {
   "display_name": "Python 3",
   "language": "python",
   "name": "python3"
  },
  "language_info": {
   "codemirror_mode": {
    "name": "ipython",
    "version": 3
   },
   "file_extension": ".py",
   "mimetype": "text/x-python",
   "name": "python",
   "nbconvert_exporter": "python",
   "pygments_lexer": "ipython3",
   "version": "3.7.3"
  }
 },
 "nbformat": 4,
 "nbformat_minor": 1
}
